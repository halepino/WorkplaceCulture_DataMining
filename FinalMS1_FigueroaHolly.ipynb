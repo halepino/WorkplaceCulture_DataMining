{
 "cells": [
  {
   "cell_type": "markdown",
   "id": "096fcec9",
   "metadata": {},
   "source": [
    "## Holly Figueroa\n",
    "## DSC 550 Milestone 1: Employee Mental Health & Workplace MH Culture"
   ]
  },
  {
   "cell_type": "markdown",
   "id": "06ac4aea",
   "metadata": {},
   "source": [
    "### *Milestone Requirements*\n",
    "*Begin Milestone 1 with a ***250-500-word narrative*** describing your original idea for the analysis/model building business problem. Clearly identify the problem you will address and the target for your model. Then, do **a graphical analysis creating a minimum of four graphs**. Label your graphs appropriately and **explain/analyze the information provided by each graph**. Your analysis should begin to answer the question(s) you are addressing. **Write a short overview/conclusion** of the insights gained from your graphical analysis.*"
   ]
  },
  {
   "cell_type": "markdown",
   "id": "aa2f4201",
   "metadata": {},
   "source": [
    "### Narrative  \n",
    "Mental health struggles have been long stigmatized within society despite its prevalence across populations. As companies compete to retain effective talent, workplace mental health culture may be added to the list of qualities that set one company apart from another. The analyses done for this project will assume that a company will be interested in better supporting employee mental health as it pertains to work culture, productivity, retention, and attracting new hires. \n",
    "\n",
    "First it must be established that mental health is a prevalent issue warranting employer attention. If it is, creating a better workplace culture around mental health requires employee perceptions be explored as well as company practices.  I have survey data results from workers, with a variety of employers, mostly in the tech field. My dataset contains a variety of features that seek to capture prevalence of mental health concerns as well as perceptions of how their employer values mental health through culture, benefits, and accommodations. Nearly all variables in the dataset are categorical. Many are based on Likert responses, some binary, some organized, some not.  Given the data types and available labeled data for target features, classifier modeling appears to be the best choice. \n",
    "\n",
    "A model to capable of classifying those with high rates of work interference from mental health can be used inform company practices. By creating the best working model to predict mental health interference as its target, an employer can begin to evaluate features against their own workplace practices, culture, and benefits to improve employee wellness and performance. To achieve a quality model the following questions will be examined from the dataset:\n",
    "\n",
    "* How common is work interference due to mental health?\n",
    "* Is work interference related to the perception of negative consequences for talking about mental health needs?\n",
    "* Is work interference distributed differently for employees that work remotely?\n",
    "* How are features of interest distributed?\n",
    "* What features cooperate best to predict work interference?\n",
    "* What features are closely related/redundant and may need to be removed?\n",
    "* Are the best features to predict work interference different for employees who work from home?\n",
    "\n",
    "After EDA, analysis will begin with targeting work interference, but it may be preferable for a company to target an employee's perceptions of negative consequences from discussing mental health with supervisors. While an employee may privately choose to forgo resources, treatment, or employer accommodations for mental health, their sense of safety to discuss concerns could reflect the most about company culture around mental health than anything else. "
   ]
  },
  {
   "cell_type": "markdown",
   "id": "ac623b2d",
   "metadata": {},
   "source": [
    "### EDA"
   ]
  },
  {
   "cell_type": "code",
   "execution_count": 1,
   "id": "04fe050d",
   "metadata": {},
   "outputs": [],
   "source": [
    "import pandas as pd\n",
    "import matplotlib.pyplot as plt\n",
    "import numpy as np\n",
    "import seaborn as sns"
   ]
  },
  {
   "cell_type": "code",
   "execution_count": 2,
   "id": "701ece57",
   "metadata": {},
   "outputs": [
    {
     "data": {
      "text/html": [
       "<div>\n",
       "<style scoped>\n",
       "    .dataframe tbody tr th:only-of-type {\n",
       "        vertical-align: middle;\n",
       "    }\n",
       "\n",
       "    .dataframe tbody tr th {\n",
       "        vertical-align: top;\n",
       "    }\n",
       "\n",
       "    .dataframe thead th {\n",
       "        text-align: right;\n",
       "    }\n",
       "</style>\n",
       "<table border=\"1\" class=\"dataframe\">\n",
       "  <thead>\n",
       "    <tr style=\"text-align: right;\">\n",
       "      <th></th>\n",
       "      <th>Timestamp</th>\n",
       "      <th>Age</th>\n",
       "      <th>Gender</th>\n",
       "      <th>Country</th>\n",
       "      <th>state</th>\n",
       "      <th>self_employed</th>\n",
       "      <th>family_history</th>\n",
       "      <th>treatment</th>\n",
       "      <th>work_interfere</th>\n",
       "      <th>no_employees</th>\n",
       "      <th>...</th>\n",
       "      <th>leave</th>\n",
       "      <th>mental_health_consequence</th>\n",
       "      <th>phys_health_consequence</th>\n",
       "      <th>coworkers</th>\n",
       "      <th>supervisor</th>\n",
       "      <th>mental_health_interview</th>\n",
       "      <th>phys_health_interview</th>\n",
       "      <th>mental_vs_physical</th>\n",
       "      <th>obs_consequence</th>\n",
       "      <th>comments</th>\n",
       "    </tr>\n",
       "  </thead>\n",
       "  <tbody>\n",
       "    <tr>\n",
       "      <th>0</th>\n",
       "      <td>2014-08-27 11:29:31</td>\n",
       "      <td>37</td>\n",
       "      <td>Female</td>\n",
       "      <td>United States</td>\n",
       "      <td>IL</td>\n",
       "      <td>NaN</td>\n",
       "      <td>No</td>\n",
       "      <td>Yes</td>\n",
       "      <td>Often</td>\n",
       "      <td>6-25</td>\n",
       "      <td>...</td>\n",
       "      <td>Somewhat easy</td>\n",
       "      <td>No</td>\n",
       "      <td>No</td>\n",
       "      <td>Some of them</td>\n",
       "      <td>Yes</td>\n",
       "      <td>No</td>\n",
       "      <td>Maybe</td>\n",
       "      <td>Yes</td>\n",
       "      <td>No</td>\n",
       "      <td>NaN</td>\n",
       "    </tr>\n",
       "    <tr>\n",
       "      <th>1</th>\n",
       "      <td>2014-08-27 11:29:37</td>\n",
       "      <td>44</td>\n",
       "      <td>M</td>\n",
       "      <td>United States</td>\n",
       "      <td>IN</td>\n",
       "      <td>NaN</td>\n",
       "      <td>No</td>\n",
       "      <td>No</td>\n",
       "      <td>Rarely</td>\n",
       "      <td>More than 1000</td>\n",
       "      <td>...</td>\n",
       "      <td>Don't know</td>\n",
       "      <td>Maybe</td>\n",
       "      <td>No</td>\n",
       "      <td>No</td>\n",
       "      <td>No</td>\n",
       "      <td>No</td>\n",
       "      <td>No</td>\n",
       "      <td>Don't know</td>\n",
       "      <td>No</td>\n",
       "      <td>NaN</td>\n",
       "    </tr>\n",
       "    <tr>\n",
       "      <th>2</th>\n",
       "      <td>2014-08-27 11:29:44</td>\n",
       "      <td>32</td>\n",
       "      <td>Male</td>\n",
       "      <td>Canada</td>\n",
       "      <td>NaN</td>\n",
       "      <td>NaN</td>\n",
       "      <td>No</td>\n",
       "      <td>No</td>\n",
       "      <td>Rarely</td>\n",
       "      <td>6-25</td>\n",
       "      <td>...</td>\n",
       "      <td>Somewhat difficult</td>\n",
       "      <td>No</td>\n",
       "      <td>No</td>\n",
       "      <td>Yes</td>\n",
       "      <td>Yes</td>\n",
       "      <td>Yes</td>\n",
       "      <td>Yes</td>\n",
       "      <td>No</td>\n",
       "      <td>No</td>\n",
       "      <td>NaN</td>\n",
       "    </tr>\n",
       "    <tr>\n",
       "      <th>3</th>\n",
       "      <td>2014-08-27 11:29:46</td>\n",
       "      <td>31</td>\n",
       "      <td>Male</td>\n",
       "      <td>United Kingdom</td>\n",
       "      <td>NaN</td>\n",
       "      <td>NaN</td>\n",
       "      <td>Yes</td>\n",
       "      <td>Yes</td>\n",
       "      <td>Often</td>\n",
       "      <td>26-100</td>\n",
       "      <td>...</td>\n",
       "      <td>Somewhat difficult</td>\n",
       "      <td>Yes</td>\n",
       "      <td>Yes</td>\n",
       "      <td>Some of them</td>\n",
       "      <td>No</td>\n",
       "      <td>Maybe</td>\n",
       "      <td>Maybe</td>\n",
       "      <td>No</td>\n",
       "      <td>Yes</td>\n",
       "      <td>NaN</td>\n",
       "    </tr>\n",
       "    <tr>\n",
       "      <th>4</th>\n",
       "      <td>2014-08-27 11:30:22</td>\n",
       "      <td>31</td>\n",
       "      <td>Male</td>\n",
       "      <td>United States</td>\n",
       "      <td>TX</td>\n",
       "      <td>NaN</td>\n",
       "      <td>No</td>\n",
       "      <td>No</td>\n",
       "      <td>Never</td>\n",
       "      <td>100-500</td>\n",
       "      <td>...</td>\n",
       "      <td>Don't know</td>\n",
       "      <td>No</td>\n",
       "      <td>No</td>\n",
       "      <td>Some of them</td>\n",
       "      <td>Yes</td>\n",
       "      <td>Yes</td>\n",
       "      <td>Yes</td>\n",
       "      <td>Don't know</td>\n",
       "      <td>No</td>\n",
       "      <td>NaN</td>\n",
       "    </tr>\n",
       "  </tbody>\n",
       "</table>\n",
       "<p>5 rows × 27 columns</p>\n",
       "</div>"
      ],
      "text/plain": [
       "             Timestamp  Age  Gender         Country state self_employed  \\\n",
       "0  2014-08-27 11:29:31   37  Female   United States    IL           NaN   \n",
       "1  2014-08-27 11:29:37   44       M   United States    IN           NaN   \n",
       "2  2014-08-27 11:29:44   32    Male          Canada   NaN           NaN   \n",
       "3  2014-08-27 11:29:46   31    Male  United Kingdom   NaN           NaN   \n",
       "4  2014-08-27 11:30:22   31    Male   United States    TX           NaN   \n",
       "\n",
       "  family_history treatment work_interfere    no_employees  ...  \\\n",
       "0             No       Yes          Often            6-25  ...   \n",
       "1             No        No         Rarely  More than 1000  ...   \n",
       "2             No        No         Rarely            6-25  ...   \n",
       "3            Yes       Yes          Often          26-100  ...   \n",
       "4             No        No          Never         100-500  ...   \n",
       "\n",
       "                leave mental_health_consequence phys_health_consequence  \\\n",
       "0       Somewhat easy                        No                      No   \n",
       "1          Don't know                     Maybe                      No   \n",
       "2  Somewhat difficult                        No                      No   \n",
       "3  Somewhat difficult                       Yes                     Yes   \n",
       "4          Don't know                        No                      No   \n",
       "\n",
       "      coworkers supervisor mental_health_interview phys_health_interview  \\\n",
       "0  Some of them        Yes                      No                 Maybe   \n",
       "1            No         No                      No                    No   \n",
       "2           Yes        Yes                     Yes                   Yes   \n",
       "3  Some of them         No                   Maybe                 Maybe   \n",
       "4  Some of them        Yes                     Yes                   Yes   \n",
       "\n",
       "  mental_vs_physical obs_consequence comments  \n",
       "0                Yes              No      NaN  \n",
       "1         Don't know              No      NaN  \n",
       "2                 No              No      NaN  \n",
       "3                 No             Yes      NaN  \n",
       "4         Don't know              No      NaN  \n",
       "\n",
       "[5 rows x 27 columns]"
      ]
     },
     "execution_count": 2,
     "metadata": {},
     "output_type": "execute_result"
    }
   ],
   "source": [
    "# Load file created of variable despriptions for reference - \n",
    "var_info = pd.read_csv('var_info_df.csv')\n",
    "\n",
    "# Load csv data file in to df\n",
    "df = pd.read_csv('survey.csv')\n",
    "df.head()"
   ]
  },
  {
   "cell_type": "code",
   "execution_count": 3,
   "id": "134ebdb8",
   "metadata": {},
   "outputs": [
    {
     "data": {
      "text/html": [
       "<style  type=\"text/css\" >\n",
       "#T_a914a_row0_col0,#T_a914a_row0_col1,#T_a914a_row1_col0,#T_a914a_row1_col1,#T_a914a_row2_col0,#T_a914a_row2_col1,#T_a914a_row3_col0,#T_a914a_row3_col1,#T_a914a_row4_col0,#T_a914a_row4_col1,#T_a914a_row5_col0,#T_a914a_row5_col1,#T_a914a_row6_col0,#T_a914a_row6_col1,#T_a914a_row7_col0,#T_a914a_row7_col1,#T_a914a_row8_col0,#T_a914a_row8_col1,#T_a914a_row9_col0,#T_a914a_row9_col1,#T_a914a_row10_col0,#T_a914a_row10_col1,#T_a914a_row11_col0,#T_a914a_row11_col1,#T_a914a_row12_col0,#T_a914a_row12_col1,#T_a914a_row13_col0,#T_a914a_row13_col1,#T_a914a_row14_col0,#T_a914a_row14_col1,#T_a914a_row15_col0,#T_a914a_row15_col1,#T_a914a_row16_col0,#T_a914a_row16_col1,#T_a914a_row17_col0,#T_a914a_row17_col1,#T_a914a_row18_col0,#T_a914a_row18_col1,#T_a914a_row19_col0,#T_a914a_row19_col1,#T_a914a_row20_col0,#T_a914a_row20_col1,#T_a914a_row21_col0,#T_a914a_row21_col1,#T_a914a_row22_col0,#T_a914a_row22_col1,#T_a914a_row23_col0,#T_a914a_row23_col1,#T_a914a_row24_col0,#T_a914a_row24_col1,#T_a914a_row25_col0,#T_a914a_row25_col1{\n",
       "            text-align:  left;\n",
       "        }</style><table id=\"T_a914a_\" ><thead>    <tr>        <th class=\"blank level0\" ></th>        <th class=\"col_heading level0 col0\" >Variable</th>        <th class=\"col_heading level0 col1\" >Survey Question</th>    </tr></thead><tbody>\n",
       "                <tr>\n",
       "                        <th id=\"T_a914a_level0_row0\" class=\"row_heading level0 row0\" >0</th>\n",
       "                        <td id=\"T_a914a_row0_col0\" class=\"data row0 col0\" >Age</td>\n",
       "                        <td id=\"T_a914a_row0_col1\" class=\"data row0 col1\" >nan</td>\n",
       "            </tr>\n",
       "            <tr>\n",
       "                        <th id=\"T_a914a_level0_row1\" class=\"row_heading level0 row1\" >1</th>\n",
       "                        <td id=\"T_a914a_row1_col0\" class=\"data row1 col0\" >Gender</td>\n",
       "                        <td id=\"T_a914a_row1_col1\" class=\"data row1 col1\" >nan</td>\n",
       "            </tr>\n",
       "            <tr>\n",
       "                        <th id=\"T_a914a_level0_row2\" class=\"row_heading level0 row2\" >2</th>\n",
       "                        <td id=\"T_a914a_row2_col0\" class=\"data row2 col0\" >Country</td>\n",
       "                        <td id=\"T_a914a_row2_col1\" class=\"data row2 col1\" >nan</td>\n",
       "            </tr>\n",
       "            <tr>\n",
       "                        <th id=\"T_a914a_level0_row3\" class=\"row_heading level0 row3\" >3</th>\n",
       "                        <td id=\"T_a914a_row3_col0\" class=\"data row3 col0\" >state</td>\n",
       "                        <td id=\"T_a914a_row3_col1\" class=\"data row3 col1\" > If you live in the United States, which state or territory do you live in?</td>\n",
       "            </tr>\n",
       "            <tr>\n",
       "                        <th id=\"T_a914a_level0_row4\" class=\"row_heading level0 row4\" >4</th>\n",
       "                        <td id=\"T_a914a_row4_col0\" class=\"data row4 col0\" >self_employed</td>\n",
       "                        <td id=\"T_a914a_row4_col1\" class=\"data row4 col1\" > Are you self-employed?</td>\n",
       "            </tr>\n",
       "            <tr>\n",
       "                        <th id=\"T_a914a_level0_row5\" class=\"row_heading level0 row5\" >5</th>\n",
       "                        <td id=\"T_a914a_row5_col0\" class=\"data row5 col0\" >family_history</td>\n",
       "                        <td id=\"T_a914a_row5_col1\" class=\"data row5 col1\" > Do you have a family history of mental illness?</td>\n",
       "            </tr>\n",
       "            <tr>\n",
       "                        <th id=\"T_a914a_level0_row6\" class=\"row_heading level0 row6\" >6</th>\n",
       "                        <td id=\"T_a914a_row6_col0\" class=\"data row6 col0\" >treatment</td>\n",
       "                        <td id=\"T_a914a_row6_col1\" class=\"data row6 col1\" > Have you sought treatment for a mental health condition?</td>\n",
       "            </tr>\n",
       "            <tr>\n",
       "                        <th id=\"T_a914a_level0_row7\" class=\"row_heading level0 row7\" >7</th>\n",
       "                        <td id=\"T_a914a_row7_col0\" class=\"data row7 col0\" >work_interfere</td>\n",
       "                        <td id=\"T_a914a_row7_col1\" class=\"data row7 col1\" > If you have a mental health condition, do you feel that it interferes with your work</td>\n",
       "            </tr>\n",
       "            <tr>\n",
       "                        <th id=\"T_a914a_level0_row8\" class=\"row_heading level0 row8\" >8</th>\n",
       "                        <td id=\"T_a914a_row8_col0\" class=\"data row8 col0\" >no_employees</td>\n",
       "                        <td id=\"T_a914a_row8_col1\" class=\"data row8 col1\" > How many employees does your company or organization have?</td>\n",
       "            </tr>\n",
       "            <tr>\n",
       "                        <th id=\"T_a914a_level0_row9\" class=\"row_heading level0 row9\" >9</th>\n",
       "                        <td id=\"T_a914a_row9_col0\" class=\"data row9 col0\" >remote_work</td>\n",
       "                        <td id=\"T_a914a_row9_col1\" class=\"data row9 col1\" > Do you work remotely (outside of an office) at least 50% of the time?</td>\n",
       "            </tr>\n",
       "            <tr>\n",
       "                        <th id=\"T_a914a_level0_row10\" class=\"row_heading level0 row10\" >10</th>\n",
       "                        <td id=\"T_a914a_row10_col0\" class=\"data row10 col0\" >tech_company</td>\n",
       "                        <td id=\"T_a914a_row10_col1\" class=\"data row10 col1\" > Is your employer primarily a tech company/organization?</td>\n",
       "            </tr>\n",
       "            <tr>\n",
       "                        <th id=\"T_a914a_level0_row11\" class=\"row_heading level0 row11\" >11</th>\n",
       "                        <td id=\"T_a914a_row11_col0\" class=\"data row11 col0\" >benefits</td>\n",
       "                        <td id=\"T_a914a_row11_col1\" class=\"data row11 col1\" > Does your employer provide mental health benefits?</td>\n",
       "            </tr>\n",
       "            <tr>\n",
       "                        <th id=\"T_a914a_level0_row12\" class=\"row_heading level0 row12\" >12</th>\n",
       "                        <td id=\"T_a914a_row12_col0\" class=\"data row12 col0\" >care_options</td>\n",
       "                        <td id=\"T_a914a_row12_col1\" class=\"data row12 col1\" > Do you know the options for mental health care your employer provides?</td>\n",
       "            </tr>\n",
       "            <tr>\n",
       "                        <th id=\"T_a914a_level0_row13\" class=\"row_heading level0 row13\" >13</th>\n",
       "                        <td id=\"T_a914a_row13_col0\" class=\"data row13 col0\" >wellness_program</td>\n",
       "                        <td id=\"T_a914a_row13_col1\" class=\"data row13 col1\" > Has your employer ever discussed mental health as part of an employee wellness program?</td>\n",
       "            </tr>\n",
       "            <tr>\n",
       "                        <th id=\"T_a914a_level0_row14\" class=\"row_heading level0 row14\" >14</th>\n",
       "                        <td id=\"T_a914a_row14_col0\" class=\"data row14 col0\" >seek_help</td>\n",
       "                        <td id=\"T_a914a_row14_col1\" class=\"data row14 col1\" > Does your employer provide resources to learn more about mental health issues and how to seek help?</td>\n",
       "            </tr>\n",
       "            <tr>\n",
       "                        <th id=\"T_a914a_level0_row15\" class=\"row_heading level0 row15\" >15</th>\n",
       "                        <td id=\"T_a914a_row15_col0\" class=\"data row15 col0\" >anonymity</td>\n",
       "                        <td id=\"T_a914a_row15_col1\" class=\"data row15 col1\" > Is your anonymity protected if you choose to take advantage of mental health or substance abuse treatment resources?</td>\n",
       "            </tr>\n",
       "            <tr>\n",
       "                        <th id=\"T_a914a_level0_row16\" class=\"row_heading level0 row16\" >16</th>\n",
       "                        <td id=\"T_a914a_row16_col0\" class=\"data row16 col0\" >leave</td>\n",
       "                        <td id=\"T_a914a_row16_col1\" class=\"data row16 col1\" > How easy is it for you to take medical leave for a mental health condition?</td>\n",
       "            </tr>\n",
       "            <tr>\n",
       "                        <th id=\"T_a914a_level0_row17\" class=\"row_heading level0 row17\" >17</th>\n",
       "                        <td id=\"T_a914a_row17_col0\" class=\"data row17 col0\" >mentalhealthconsequence</td>\n",
       "                        <td id=\"T_a914a_row17_col1\" class=\"data row17 col1\" > Do you think that discussing a mental health issue with your employer would have negative consequences?</td>\n",
       "            </tr>\n",
       "            <tr>\n",
       "                        <th id=\"T_a914a_level0_row18\" class=\"row_heading level0 row18\" >18</th>\n",
       "                        <td id=\"T_a914a_row18_col0\" class=\"data row18 col0\" >physhealthconsequence</td>\n",
       "                        <td id=\"T_a914a_row18_col1\" class=\"data row18 col1\" > Do you think that discussing a physical health issue with your employer would have negative consequences?</td>\n",
       "            </tr>\n",
       "            <tr>\n",
       "                        <th id=\"T_a914a_level0_row19\" class=\"row_heading level0 row19\" >19</th>\n",
       "                        <td id=\"T_a914a_row19_col0\" class=\"data row19 col0\" >coworkers</td>\n",
       "                        <td id=\"T_a914a_row19_col1\" class=\"data row19 col1\" > Would you be willing to discuss a mental health issue with your coworkers?</td>\n",
       "            </tr>\n",
       "            <tr>\n",
       "                        <th id=\"T_a914a_level0_row20\" class=\"row_heading level0 row20\" >20</th>\n",
       "                        <td id=\"T_a914a_row20_col0\" class=\"data row20 col0\" >supervisor</td>\n",
       "                        <td id=\"T_a914a_row20_col1\" class=\"data row20 col1\" > Would you be willing to discuss a mental health issue with your direct supervisor(s)?</td>\n",
       "            </tr>\n",
       "            <tr>\n",
       "                        <th id=\"T_a914a_level0_row21\" class=\"row_heading level0 row21\" >21</th>\n",
       "                        <td id=\"T_a914a_row21_col0\" class=\"data row21 col0\" >mentalhealthinterview</td>\n",
       "                        <td id=\"T_a914a_row21_col1\" class=\"data row21 col1\" > Would you bring up a mental health issue with a potential employer in an interview?</td>\n",
       "            </tr>\n",
       "            <tr>\n",
       "                        <th id=\"T_a914a_level0_row22\" class=\"row_heading level0 row22\" >22</th>\n",
       "                        <td id=\"T_a914a_row22_col0\" class=\"data row22 col0\" >physhealthinterview</td>\n",
       "                        <td id=\"T_a914a_row22_col1\" class=\"data row22 col1\" > Would you bring up a physical health issue with a potential employer in an interview</td>\n",
       "            </tr>\n",
       "            <tr>\n",
       "                        <th id=\"T_a914a_level0_row23\" class=\"row_heading level0 row23\" >23</th>\n",
       "                        <td id=\"T_a914a_row23_col0\" class=\"data row23 col0\" >mentalvsphysical</td>\n",
       "                        <td id=\"T_a914a_row23_col1\" class=\"data row23 col1\" > Do you feel that your employer takes mental health as seriously as physical health?</td>\n",
       "            </tr>\n",
       "            <tr>\n",
       "                        <th id=\"T_a914a_level0_row24\" class=\"row_heading level0 row24\" >24</th>\n",
       "                        <td id=\"T_a914a_row24_col0\" class=\"data row24 col0\" >obs_consequence</td>\n",
       "                        <td id=\"T_a914a_row24_col1\" class=\"data row24 col1\" > Have you heard of or observed negative consequences for coworkers with mental health conditions in your workplace?</td>\n",
       "            </tr>\n",
       "            <tr>\n",
       "                        <th id=\"T_a914a_level0_row25\" class=\"row_heading level0 row25\" >25</th>\n",
       "                        <td id=\"T_a914a_row25_col0\" class=\"data row25 col0\" >comments</td>\n",
       "                        <td id=\"T_a914a_row25_col1\" class=\"data row25 col1\" > Any additional notes or comments</td>\n",
       "            </tr>\n",
       "    </tbody></table>"
      ],
      "text/plain": [
       "<pandas.io.formats.style.Styler at 0x22362690fd0>"
      ]
     },
     "metadata": {},
     "output_type": "display_data"
    }
   ],
   "source": [
    "# Display variables and their descriptions for reference\n",
    "with pd.option_context('display.max_colwidth', None):\n",
    "  display(var_info.style.set_properties(**{'text-align': 'left'}))"
   ]
  },
  {
   "cell_type": "code",
   "execution_count": 4,
   "id": "a32c2d86",
   "metadata": {},
   "outputs": [
    {
     "data": {
      "text/plain": [
       "(1259, 27)"
      ]
     },
     "execution_count": 4,
     "metadata": {},
     "output_type": "execute_result"
    }
   ],
   "source": [
    "# View shape\n",
    "df.shape"
   ]
  },
  {
   "cell_type": "code",
   "execution_count": 5,
   "id": "77b1672e",
   "metadata": {},
   "outputs": [],
   "source": [
    "# Create subset of columns to view certain value counts (exclue timestamp, age, and comments)\n",
    "dfcounts = df.iloc[:,2:-1]"
   ]
  },
  {
   "cell_type": "code",
   "execution_count": 6,
   "id": "2bd9be2a",
   "metadata": {},
   "outputs": [
    {
     "name": "stdout",
     "output_type": "stream",
     "text": [
      "____________GENDER____________\n",
      "Male                                              615\n",
      "male                                              206\n",
      "Female                                            121\n",
      "M                                                 116\n",
      "female                                             62\n",
      "F                                                  38\n",
      "m                                                  34\n",
      "f                                                  15\n",
      "Make                                                4\n",
      "Male                                                3\n",
      "Woman                                               3\n",
      "Man                                                 2\n",
      "Female                                              2\n",
      "Female (trans)                                      2\n",
      "Cis Male                                            2\n",
      "Femake                                              1\n",
      "p                                                   1\n",
      "cis-female/femme                                    1\n",
      "femail                                              1\n",
      "msle                                                1\n",
      "Cis Female                                          1\n",
      "Enby                                                1\n",
      "Agender                                             1\n",
      "Malr                                                1\n",
      "Androgyne                                           1\n",
      "A little about you                                  1\n",
      "queer/she/they                                      1\n",
      "Cis Man                                             1\n",
      "fluid                                               1\n",
      "maile                                               1\n",
      "Mal                                                 1\n",
      "Neuter                                              1\n",
      "Trans woman                                         1\n",
      "Male-ish                                            1\n",
      "Nah                                                 1\n",
      "Female (cis)                                        1\n",
      "cis male                                            1\n",
      "Mail                                                1\n",
      "Genderqueer                                         1\n",
      "Guy (-ish) ^_^                                      1\n",
      "Trans-female                                        1\n",
      "something kinda male?                               1\n",
      "male leaning androgynous                            1\n",
      "non-binary                                          1\n",
      "ostensibly male, unsure what that really means      1\n",
      "Male (CIS)                                          1\n",
      "woman                                               1\n",
      "All                                                 1\n",
      "queer                                               1\n",
      "Name: Gender, dtype: int64 \n",
      "\n",
      "___________COUNTRY____________\n",
      "United States             751\n",
      "United Kingdom            185\n",
      "Canada                     72\n",
      "Germany                    45\n",
      "Ireland                    27\n",
      "Netherlands                27\n",
      "Australia                  21\n",
      "France                     13\n",
      "India                      10\n",
      "New Zealand                 8\n",
      "Poland                      7\n",
      "Sweden                      7\n",
      "Italy                       7\n",
      "Switzerland                 7\n",
      "Brazil                      6\n",
      "Belgium                     6\n",
      "South Africa                6\n",
      "Israel                      5\n",
      "Bulgaria                    4\n",
      "Singapore                   4\n",
      "Austria                     3\n",
      "Russia                      3\n",
      "Finland                     3\n",
      "Mexico                      3\n",
      "Greece                      2\n",
      "Colombia                    2\n",
      "Denmark                     2\n",
      "Portugal                    2\n",
      "Croatia                     2\n",
      "Thailand                    1\n",
      "Nigeria                     1\n",
      "Zimbabwe                    1\n",
      "Moldova                     1\n",
      "Uruguay                     1\n",
      "Philippines                 1\n",
      "Norway                      1\n",
      "Czech Republic              1\n",
      "China                       1\n",
      "Romania                     1\n",
      "Bahamas, The                1\n",
      "Slovenia                    1\n",
      "Japan                       1\n",
      "Georgia                     1\n",
      "Spain                       1\n",
      "Latvia                      1\n",
      "Hungary                     1\n",
      "Bosnia and Herzegovina      1\n",
      "Costa Rica                  1\n",
      "Name: Country, dtype: int64 \n",
      "\n",
      "____________STATE_____________\n",
      "CA    138\n",
      "WA     70\n",
      "NY     57\n",
      "TN     45\n",
      "TX     44\n",
      "OH     30\n",
      "IL     29\n",
      "OR     29\n",
      "PA     29\n",
      "IN     27\n",
      "MI     22\n",
      "MN     21\n",
      "MA     20\n",
      "FL     15\n",
      "VA     14\n",
      "NC     14\n",
      "WI     12\n",
      "MO     12\n",
      "GA     12\n",
      "UT     11\n",
      "CO      9\n",
      "MD      8\n",
      "AL      8\n",
      "AZ      7\n",
      "NJ      6\n",
      "OK      6\n",
      "KY      5\n",
      "SC      5\n",
      "DC      4\n",
      "IA      4\n",
      "CT      4\n",
      "NH      3\n",
      "KS      3\n",
      "VT      3\n",
      "NV      3\n",
      "SD      3\n",
      "WY      2\n",
      "NM      2\n",
      "NE      2\n",
      "ME      1\n",
      "MS      1\n",
      "RI      1\n",
      "LA      1\n",
      "WV      1\n",
      "ID      1\n",
      "Name: state, dtype: int64 \n",
      "\n",
      "________SELF_EMPLOYED_________\n",
      "No     1095\n",
      "Yes     146\n",
      "Name: self_employed, dtype: int64 \n",
      "\n",
      "________FAMILY_HISTORY________\n",
      "No     767\n",
      "Yes    492\n",
      "Name: family_history, dtype: int64 \n",
      "\n",
      "__________TREATMENT___________\n",
      "Yes    637\n",
      "No     622\n",
      "Name: treatment, dtype: int64 \n",
      "\n",
      "________WORK_INTERFERE________\n",
      "Sometimes    465\n",
      "Never        213\n",
      "Rarely       173\n",
      "Often        144\n",
      "Name: work_interfere, dtype: int64 \n",
      "\n",
      "_________NO_EMPLOYEES_________\n",
      "6-25              290\n",
      "26-100            289\n",
      "More than 1000    282\n",
      "100-500           176\n",
      "1-5               162\n",
      "500-1000           60\n",
      "Name: no_employees, dtype: int64 \n",
      "\n",
      "_________REMOTE_WORK__________\n",
      "No     883\n",
      "Yes    376\n",
      "Name: remote_work, dtype: int64 \n",
      "\n",
      "_________TECH_COMPANY_________\n",
      "Yes    1031\n",
      "No      228\n",
      "Name: tech_company, dtype: int64 \n",
      "\n",
      "___________BENEFITS___________\n",
      "Yes           477\n",
      "Don't know    408\n",
      "No            374\n",
      "Name: benefits, dtype: int64 \n",
      "\n",
      "_________CARE_OPTIONS_________\n",
      "No          501\n",
      "Yes         444\n",
      "Not sure    314\n",
      "Name: care_options, dtype: int64 \n",
      "\n",
      "_______WELLNESS_PROGRAM_______\n",
      "No            842\n",
      "Yes           229\n",
      "Don't know    188\n",
      "Name: wellness_program, dtype: int64 \n",
      "\n",
      "__________SEEK_HELP___________\n",
      "No            646\n",
      "Don't know    363\n",
      "Yes           250\n",
      "Name: seek_help, dtype: int64 \n",
      "\n",
      "__________ANONYMITY___________\n",
      "Don't know    819\n",
      "Yes           375\n",
      "No             65\n",
      "Name: anonymity, dtype: int64 \n",
      "\n",
      "____________LEAVE_____________\n",
      "Don't know            563\n",
      "Somewhat easy         266\n",
      "Very easy             206\n",
      "Somewhat difficult    126\n",
      "Very difficult         98\n",
      "Name: leave, dtype: int64 \n",
      "\n",
      "__MENTAL_HEALTH_CONSEQUENCE___\n",
      "No       490\n",
      "Maybe    477\n",
      "Yes      292\n",
      "Name: mental_health_consequence, dtype: int64 \n",
      "\n",
      "___PHYS_HEALTH_CONSEQUENCE____\n",
      "No       925\n",
      "Maybe    273\n",
      "Yes       61\n",
      "Name: phys_health_consequence, dtype: int64 \n",
      "\n",
      "__________COWORKERS___________\n",
      "Some of them    774\n",
      "No              260\n",
      "Yes             225\n",
      "Name: coworkers, dtype: int64 \n",
      "\n",
      "__________SUPERVISOR__________\n",
      "Yes             516\n",
      "No              393\n",
      "Some of them    350\n",
      "Name: supervisor, dtype: int64 \n",
      "\n",
      "___MENTAL_HEALTH_INTERVIEW____\n",
      "No       1008\n",
      "Maybe     207\n",
      "Yes        44\n",
      "Name: mental_health_interview, dtype: int64 \n",
      "\n",
      "____PHYS_HEALTH_INTERVIEW_____\n",
      "Maybe    557\n",
      "No       500\n",
      "Yes      202\n",
      "Name: phys_health_interview, dtype: int64 \n",
      "\n",
      "______MENTAL_VS_PHYSICAL______\n",
      "Don't know    576\n",
      "Yes           343\n",
      "No            340\n",
      "Name: mental_vs_physical, dtype: int64 \n",
      "\n",
      "_______OBS_CONSEQUENCE________\n",
      "No     1075\n",
      "Yes     184\n",
      "Name: obs_consequence, dtype: int64 \n",
      "\n"
     ]
    }
   ],
   "source": [
    "# Itereate over columns and print val counts to get a clearer look at categorical variables\n",
    "for col in dfcounts:\n",
    "    print ('{:_^30}'.format(col).upper())\n",
    "    print(dfcounts[col].value_counts(),'\\n')"
   ]
  },
  {
   "cell_type": "code",
   "execution_count": 7,
   "id": "10362945",
   "metadata": {},
   "outputs": [
    {
     "data": {
      "text/plain": [
       "array([         37,          44,          32,          31,          33,\n",
       "                35,          39,          42,          23,          29,\n",
       "                36,          27,          46,          41,          34,\n",
       "                30,          40,          38,          50,          24,\n",
       "                18,          28,          26,          22,          19,\n",
       "                25,          45,          21,         -29,          43,\n",
       "                56,          60,          54,         329,          55,\n",
       "       99999999999,          48,          20,          57,          58,\n",
       "                47,          62,          51,          65,          49,\n",
       "             -1726,           5,          53,          61,           8,\n",
       "                11,          -1,          72], dtype=int64)"
      ]
     },
     "execution_count": 7,
     "metadata": {},
     "output_type": "execute_result"
    }
   ],
   "source": [
    "# Check Age responses\n",
    "df['Age'].unique()"
   ]
  },
  {
   "cell_type": "code",
   "execution_count": 8,
   "id": "6498d109",
   "metadata": {},
   "outputs": [],
   "source": [
    "# Use filter out value errors using a value range\n",
    "df_age = df[(df['Age'] >= 14) & (df['Age'] <= 100)]"
   ]
  },
  {
   "cell_type": "code",
   "execution_count": 9,
   "id": "e957bedb",
   "metadata": {},
   "outputs": [
    {
     "data": {
      "text/plain": [
       "Text(0.5, 1.0, 'Respondent Age')"
      ]
     },
     "execution_count": 9,
     "metadata": {},
     "output_type": "execute_result"
    },
    {
     "data": {
      "image/png": "[encoded data removed]",
      "text/plain": [
       "<Figure size 648x432 with 1 Axes>"
      ]
     },
     "metadata": {
      "needs_background": "light"
     },
     "output_type": "display_data"
    }
   ],
   "source": [
    "# Create Histogram\n",
    "fig = plt.figure(figsize =(9,6))\n",
    "plt.hist(x=df_age['Age'], \n",
    "            bins=15, \n",
    "            color='royalblue',\n",
    "            alpha=0.9, \n",
    "            rwidth=0.95)\n",
    "\n",
    "# Create grid and label features for histogram\n",
    "plt.grid(axis='y', alpha=0.5)\n",
    "plt.xticks(fontsize = 15)\n",
    "plt.yticks(fontsize = 15)\n",
    "plt.xlabel('Age',  fontsize = 12)\n",
    "plt.ylabel('Frequency', fontsize = 12)\n",
    "plt.title('Respondent Age', fontsize = 20)"
   ]
  },
  {
   "cell_type": "markdown",
   "id": "8b0b8d58",
   "metadata": {},
   "source": [
    "The histogram above shows the frequecies for age of respondents in the data set after filtering a reasonable range of ages 14-100yrs old. The distribution of ages appears positively skewed, as would be expected for a working population. The ages's mode appears to fall around 30yrs, and the skew likely sending the average higher than 30yrs of age. The visual lends confidence that the sample pool is representative enough for this analysis. "
   ]
  },
  {
   "cell_type": "code",
   "execution_count": 10,
   "id": "8d292b9f",
   "metadata": {},
   "outputs": [
    {
     "data": {
      "text/plain": [
       "Sometimes    465\n",
       "Never        213\n",
       "Rarely       173\n",
       "Often        144\n",
       "Name: work_interfere, dtype: int64"
      ]
     },
     "execution_count": 10,
     "metadata": {},
     "output_type": "execute_result"
    }
   ],
   "source": [
    "# Explore the prevealence of work interference and if the prevalence is different for remote employees\n",
    "# Create variable to store value counts for work interference and view\n",
    "interfere = df['work_interfere'].value_counts()\n",
    "interfere"
   ]
  },
  {
   "cell_type": "code",
   "execution_count": 11,
   "id": "7d9f0c1c",
   "metadata": {},
   "outputs": [
    {
     "data": {
      "text/plain": [
       "remote_work  work_interfere\n",
       "No           Sometimes         322\n",
       "             Never             157\n",
       "             Rarely            119\n",
       "             Often              93\n",
       "Yes          Sometimes         143\n",
       "             Never              56\n",
       "             Rarely             54\n",
       "             Often              51\n",
       "Name: work_interfere, dtype: int64"
      ]
     },
     "execution_count": 11,
     "metadata": {},
     "output_type": "execute_result"
    }
   ],
   "source": [
    "# Store value counts for work interference grouped by remote work status and view\n",
    "interfere2 = df.groupby('remote_work')['work_interfere'].value_counts()\n",
    "interfere2"
   ]
  },
  {
   "cell_type": "code",
   "execution_count": 12,
   "id": "5e9534cf",
   "metadata": {},
   "outputs": [
    {
     "name": "stdout",
     "output_type": "stream",
     "text": [
      "61.21 perent of ALL employees report work interference due to mental health sometimes or often\n",
      "63.82 perent of REMOTE employees report work interference due to mental health sometimes or often\n"
     ]
    }
   ],
   "source": [
    "# Compare counts using percentages\n",
    "# Get percentage of all employees reporting often or sometimes work interference from mental health\n",
    "pc_interfere = (((465+144)/interfere.sum()) * 100)\n",
    "\n",
    "# Get percentage of tech employees reporting often or sometimes work interference from mental health\n",
    "pc_remote = (((143+51)/(143+56+54+51)) * 100)\n",
    "\n",
    "print(round(pc_interfere,2) ,'perent of ALL employees report work interference due to mental health sometimes or often')\n",
    "print(round(pc_remote,2), 'perent of REMOTE employees report work interference due to mental health sometimes or often')"
   ]
  },
  {
   "cell_type": "code",
   "execution_count": 13,
   "id": "b504c976",
   "metadata": {},
   "outputs": [
    {
     "data": {
      "text/plain": [
       "Sometimes    143\n",
       "Never         56\n",
       "Rarely        54\n",
       "Often         51\n",
       "Name: work_interfere, dtype: int64"
      ]
     },
     "execution_count": 13,
     "metadata": {},
     "output_type": "execute_result"
    }
   ],
   "source": [
    "# Create Bar chart arrays\n",
    "# Subset remote workers and get array of value counts for work interference\n",
    "remote_int = df[df['remote_work']== 'Yes']\n",
    "remote_int['work_interfere'].value_counts()\n"
   ]
  },
  {
   "cell_type": "code",
   "execution_count": 14,
   "id": "f14c302d",
   "metadata": {},
   "outputs": [
    {
     "data": {
      "text/html": [
       "<div>\n",
       "<style scoped>\n",
       "    .dataframe tbody tr th:only-of-type {\n",
       "        vertical-align: middle;\n",
       "    }\n",
       "\n",
       "    .dataframe tbody tr th {\n",
       "        vertical-align: top;\n",
       "    }\n",
       "\n",
       "    .dataframe thead th {\n",
       "        text-align: right;\n",
       "    }\n",
       "</style>\n",
       "<table border=\"1\" class=\"dataframe\">\n",
       "  <thead>\n",
       "    <tr style=\"text-align: right;\">\n",
       "      <th></th>\n",
       "      <th>index</th>\n",
       "      <th>work_interfere</th>\n",
       "      <th>Order</th>\n",
       "    </tr>\n",
       "  </thead>\n",
       "  <tbody>\n",
       "    <tr>\n",
       "      <th>1</th>\n",
       "      <td>Never</td>\n",
       "      <td>56</td>\n",
       "      <td>1</td>\n",
       "    </tr>\n",
       "    <tr>\n",
       "      <th>2</th>\n",
       "      <td>Rarely</td>\n",
       "      <td>54</td>\n",
       "      <td>2</td>\n",
       "    </tr>\n",
       "    <tr>\n",
       "      <th>0</th>\n",
       "      <td>Sometimes</td>\n",
       "      <td>143</td>\n",
       "      <td>3</td>\n",
       "    </tr>\n",
       "    <tr>\n",
       "      <th>3</th>\n",
       "      <td>Often</td>\n",
       "      <td>51</td>\n",
       "      <td>4</td>\n",
       "    </tr>\n",
       "  </tbody>\n",
       "</table>\n",
       "</div>"
      ],
      "text/plain": [
       "       index  work_interfere  Order\n",
       "1      Never              56      1\n",
       "2     Rarely              54      2\n",
       "0  Sometimes             143      3\n",
       "3      Often              51      4"
      ]
     },
     "execution_count": 14,
     "metadata": {},
     "output_type": "execute_result"
    }
   ],
   "source": [
    "# Reset Index\n",
    "remote_int = remote_int['work_interfere'].value_counts().reset_index()\n",
    "# Add column to sort bars in order of severity\n",
    "remote_int['Order'] = [3,1,2,4]\n",
    "# Sort and view\n",
    "remote_int = remote_int.sort_values(by = 'Order')\n",
    "remote_int"
   ]
  },
  {
   "cell_type": "code",
   "execution_count": 15,
   "id": "179d0657",
   "metadata": {},
   "outputs": [
    {
     "data": {
      "text/plain": [
       "Sometimes    322\n",
       "Never        157\n",
       "Rarely       119\n",
       "Often         93\n",
       "Name: work_interfere, dtype: int64"
      ]
     },
     "execution_count": 15,
     "metadata": {},
     "output_type": "execute_result"
    }
   ],
   "source": [
    "# Create secondary Bar chart arrays for stacking\n",
    "# Subset remote workers and get array of value counts for work interference\n",
    "office_int = df[df['remote_work']== 'No']\n",
    "office_int['work_interfere'].value_counts()"
   ]
  },
  {
   "cell_type": "code",
   "execution_count": 16,
   "id": "064cf64b",
   "metadata": {},
   "outputs": [
    {
     "data": {
      "text/html": [
       "<div>\n",
       "<style scoped>\n",
       "    .dataframe tbody tr th:only-of-type {\n",
       "        vertical-align: middle;\n",
       "    }\n",
       "\n",
       "    .dataframe tbody tr th {\n",
       "        vertical-align: top;\n",
       "    }\n",
       "\n",
       "    .dataframe thead th {\n",
       "        text-align: right;\n",
       "    }\n",
       "</style>\n",
       "<table border=\"1\" class=\"dataframe\">\n",
       "  <thead>\n",
       "    <tr style=\"text-align: right;\">\n",
       "      <th></th>\n",
       "      <th>index</th>\n",
       "      <th>work_interfere</th>\n",
       "      <th>Order</th>\n",
       "    </tr>\n",
       "  </thead>\n",
       "  <tbody>\n",
       "    <tr>\n",
       "      <th>1</th>\n",
       "      <td>Never</td>\n",
       "      <td>157</td>\n",
       "      <td>1</td>\n",
       "    </tr>\n",
       "    <tr>\n",
       "      <th>2</th>\n",
       "      <td>Rarely</td>\n",
       "      <td>119</td>\n",
       "      <td>2</td>\n",
       "    </tr>\n",
       "    <tr>\n",
       "      <th>0</th>\n",
       "      <td>Sometimes</td>\n",
       "      <td>322</td>\n",
       "      <td>3</td>\n",
       "    </tr>\n",
       "    <tr>\n",
       "      <th>3</th>\n",
       "      <td>Often</td>\n",
       "      <td>93</td>\n",
       "      <td>4</td>\n",
       "    </tr>\n",
       "  </tbody>\n",
       "</table>\n",
       "</div>"
      ],
      "text/plain": [
       "       index  work_interfere  Order\n",
       "1      Never             157      1\n",
       "2     Rarely             119      2\n",
       "0  Sometimes             322      3\n",
       "3      Often              93      4"
      ]
     },
     "execution_count": 16,
     "metadata": {},
     "output_type": "execute_result"
    }
   ],
   "source": [
    "# Reset Index\n",
    "office_int = office_int['work_interfere'].value_counts().reset_index()\n",
    "# Create new column to be able sort order of table bars\n",
    "office_int['Order'] = [3,1,2,4]\n",
    "# Sort and view\n",
    "office_int = office_int.sort_values(by = 'Order')\n",
    "office_int"
   ]
  },
  {
   "cell_type": "code",
   "execution_count": 17,
   "id": "10f8d910",
   "metadata": {},
   "outputs": [
    {
     "data": {
      "text/plain": [
       "1    157\n",
       "2    119\n",
       "0    322\n",
       "3     93\n",
       "Name: work_interfere, dtype: int64"
      ]
     },
     "execution_count": 17,
     "metadata": {},
     "output_type": "execute_result"
    }
   ],
   "source": [
    "office = office_int.iloc[:,1]\n",
    "office"
   ]
  },
  {
   "cell_type": "code",
   "execution_count": 18,
   "id": "5fb59094",
   "metadata": {},
   "outputs": [
    {
     "data": {
      "image/png": "[encoded data removed]",
      "text/plain": [
       "<Figure size 648x432 with 1 Axes>"
      ]
     },
     "metadata": {
      "needs_background": "light"
     },
     "output_type": "display_data"
    }
   ],
   "source": [
    "# Create Bar Chart to Visualize distributions for work interference\n",
    "# Using Dual Bars to compare remote and non remote worker distributions\n",
    "\n",
    "# Make data arrays\n",
    "office = office_int.iloc[:,1]\n",
    "remote = remote_int.iloc[:,1]\n",
    "x = office_int['index']\n",
    "\n",
    "# Size \n",
    "plt.figure(figsize= (9,6))\n",
    "\n",
    "# Set columns\n",
    "N = 4\n",
    "ind = np.arange(N) \n",
    "width = 0.4\n",
    "\n",
    "# Set bars\n",
    "bar1 = plt.bar(ind, remote, width, color = 'c')\n",
    "bar2 = plt.bar(ind+width, office, width, color='cadetblue')\n",
    "\n",
    "# Create Titles, Axis Labels, and Legend\n",
    "plt.title('Q: How Often Mental Health Interferes with Work', fontsize = 20)\n",
    "plt.ylabel('Count', fontsize = 15)\n",
    "  \n",
    "plt.xticks(ind+.2, x, fontsize = 15)\n",
    "plt.legend((bar1, bar2), ('Remote Workers', 'Non-remote Workers') , fontsize = 12)\n",
    "plt.show()"
   ]
  },
  {
   "cell_type": "code",
   "execution_count": 19,
   "id": "2e714440",
   "metadata": {},
   "outputs": [],
   "source": [
    "usa_df = df[df['Country'] == 'United States']"
   ]
  },
  {
   "cell_type": "markdown",
   "id": "2b53dbc0",
   "metadata": {},
   "source": [
    "The bar chart above examines responses of how often mental health causes interferece in work. The majority of respondents reported 'Sometimes\". If we examine the range of responses it is easy to see, that only minority 'never' experience interference which highlights the that vast majority of employees would benefit from having a workplace willing to support and improve mental health. The graph also examines how the distribution of responses differes for those that work from home and they visually appear, proportionate. This suggests that working from home does not necessarily mean less interference from mental health struggles. "
   ]
  },
  {
   "cell_type": "code",
   "execution_count": 20,
   "id": "fc9689b9",
   "metadata": {},
   "outputs": [],
   "source": [
    "# Explore relationship between work interference and perceptions of negative consequences.\n",
    "# first view the distribution of negative perceptions with a pie chart\n",
    "neg_val_counts = df['mental_health_consequence'].value_counts()"
   ]
  },
  {
   "cell_type": "code",
   "execution_count": 21,
   "id": "68243ffb",
   "metadata": {},
   "outputs": [
    {
     "data": {
      "text/plain": [
       "No       490\n",
       "Maybe    477\n",
       "Yes      292\n",
       "Name: mental_health_consequence, dtype: int64"
      ]
     },
     "execution_count": 21,
     "metadata": {},
     "output_type": "execute_result"
    }
   ],
   "source": [
    "# View Counts\n",
    "neg_val_counts"
   ]
  },
  {
   "cell_type": "code",
   "execution_count": 22,
   "id": "8bb6341e",
   "metadata": {},
   "outputs": [
    {
     "data": {
      "image/png": "[encoded data removed]",
      "text/plain": [
       "<Figure size 720x504 with 1 Axes>"
      ]
     },
     "metadata": {},
     "output_type": "display_data"
    }
   ],
   "source": [
    "# Create Pie Chart\n",
    "# Pick Colors\n",
    "colors = ['darksalmon', 'cornflowerblue','royalblue' ]\n",
    "\n",
    "# Create plot\n",
    "fig = plt.figure(figsize =(10, 7))\n",
    "plt.pie(neg_val_counts, \n",
    "        labels = neg_val_counts.index, \n",
    "        colors = colors,\n",
    "        startangle = 180, \n",
    "        textprops = {'fontsize':20})\n",
    "\n",
    "# Use survey question for title\n",
    "plt.title(\"Do you think that discussing a mental health issue with \\n your employer would have negative consequences?\",\n",
    "         fontsize = 20)  \n",
    "\n",
    "# show plot\n",
    "plt.show()"
   ]
  },
  {
   "cell_type": "markdown",
   "id": "83f79b56",
   "metadata": {},
   "source": [
    "The pie chart above simply illustrates how employees view the prospect of discussing their mental health with their employer. A little under a quarter of employees feel there would be negative consequences for discussing a mental health issue. However, uncertainty is of equal concern. The graph essentially shows that majority of employees feel either their own mental health is either an unsafe to topic about, or apotentially unsafe topic. "
   ]
  },
  {
   "cell_type": "code",
   "execution_count": 23,
   "id": "cc0e7cba",
   "metadata": {},
   "outputs": [
    {
     "data": {
      "text/plain": [
       "Sometimes    135\n",
       "Often         50\n",
       "Never         38\n",
       "Rarely        37\n",
       "Name: work_interfere, dtype: int64"
      ]
     },
     "execution_count": 23,
     "metadata": {},
     "output_type": "execute_result"
    }
   ],
   "source": [
    "# Create Bar chart to compare work interference along side atitudes of negative consequences\n",
    "# Subset consequence responses for yes and no separately\n",
    "yes_con = df[df['mental_health_consequence']== 'Yes']\n",
    "no_con = df[df['mental_health_consequence'] == 'No']\n",
    "\n",
    "# View counts to choose numbers to rearrange rows for bars\n",
    "yes_con['work_interfere'].value_counts()\n"
   ]
  },
  {
   "cell_type": "code",
   "execution_count": 24,
   "id": "c4b09841",
   "metadata": {},
   "outputs": [
    {
     "data": {
      "text/html": [
       "<div>\n",
       "<style scoped>\n",
       "    .dataframe tbody tr th:only-of-type {\n",
       "        vertical-align: middle;\n",
       "    }\n",
       "\n",
       "    .dataframe tbody tr th {\n",
       "        vertical-align: top;\n",
       "    }\n",
       "\n",
       "    .dataframe thead th {\n",
       "        text-align: right;\n",
       "    }\n",
       "</style>\n",
       "<table border=\"1\" class=\"dataframe\">\n",
       "  <thead>\n",
       "    <tr style=\"text-align: right;\">\n",
       "      <th></th>\n",
       "      <th>index</th>\n",
       "      <th>work_interfere</th>\n",
       "      <th>Order</th>\n",
       "    </tr>\n",
       "  </thead>\n",
       "  <tbody>\n",
       "    <tr>\n",
       "      <th>2</th>\n",
       "      <td>Never</td>\n",
       "      <td>38</td>\n",
       "      <td>1</td>\n",
       "    </tr>\n",
       "    <tr>\n",
       "      <th>3</th>\n",
       "      <td>Rarely</td>\n",
       "      <td>37</td>\n",
       "      <td>2</td>\n",
       "    </tr>\n",
       "    <tr>\n",
       "      <th>0</th>\n",
       "      <td>Sometimes</td>\n",
       "      <td>135</td>\n",
       "      <td>3</td>\n",
       "    </tr>\n",
       "    <tr>\n",
       "      <th>1</th>\n",
       "      <td>Often</td>\n",
       "      <td>50</td>\n",
       "      <td>4</td>\n",
       "    </tr>\n",
       "  </tbody>\n",
       "</table>\n",
       "</div>"
      ],
      "text/plain": [
       "       index  work_interfere  Order\n",
       "2      Never              38      1\n",
       "3     Rarely              37      2\n",
       "0  Sometimes             135      3\n",
       "1      Often              50      4"
      ]
     },
     "execution_count": 24,
     "metadata": {},
     "output_type": "execute_result"
    }
   ],
   "source": [
    "# Create count as new var and Reset Index \n",
    "yes_count= yes_con['work_interfere'].value_counts().reset_index()\n",
    "# Add column to sort bars in order of severity\n",
    "yes_count['Order'] = [3,4,1,2]\n",
    "\n",
    "# Sort and view\n",
    "yes_sorted= yes_count.sort_values(by = 'Order')\n",
    "yes_sorted"
   ]
  },
  {
   "cell_type": "code",
   "execution_count": 25,
   "id": "10c7573a",
   "metadata": {},
   "outputs": [
    {
     "data": {
      "text/plain": [
       "Sometimes    145\n",
       "Never         97\n",
       "Rarely        71\n",
       "Often         41\n",
       "Name: work_interfere, dtype: int64"
      ]
     },
     "execution_count": 25,
     "metadata": {},
     "output_type": "execute_result"
    }
   ],
   "source": [
    "# Check counts for no responses to create new order column later\n",
    "no_con['work_interfere'].value_counts()"
   ]
  },
  {
   "cell_type": "code",
   "execution_count": 26,
   "id": "7b74fff1",
   "metadata": {},
   "outputs": [
    {
     "data": {
      "text/html": [
       "<div>\n",
       "<style scoped>\n",
       "    .dataframe tbody tr th:only-of-type {\n",
       "        vertical-align: middle;\n",
       "    }\n",
       "\n",
       "    .dataframe tbody tr th {\n",
       "        vertical-align: top;\n",
       "    }\n",
       "\n",
       "    .dataframe thead th {\n",
       "        text-align: right;\n",
       "    }\n",
       "</style>\n",
       "<table border=\"1\" class=\"dataframe\">\n",
       "  <thead>\n",
       "    <tr style=\"text-align: right;\">\n",
       "      <th></th>\n",
       "      <th>index</th>\n",
       "      <th>work_interfere</th>\n",
       "      <th>Order</th>\n",
       "    </tr>\n",
       "  </thead>\n",
       "  <tbody>\n",
       "    <tr>\n",
       "      <th>1</th>\n",
       "      <td>Never</td>\n",
       "      <td>97</td>\n",
       "      <td>1</td>\n",
       "    </tr>\n",
       "    <tr>\n",
       "      <th>2</th>\n",
       "      <td>Rarely</td>\n",
       "      <td>71</td>\n",
       "      <td>2</td>\n",
       "    </tr>\n",
       "    <tr>\n",
       "      <th>0</th>\n",
       "      <td>Sometimes</td>\n",
       "      <td>145</td>\n",
       "      <td>3</td>\n",
       "    </tr>\n",
       "    <tr>\n",
       "      <th>3</th>\n",
       "      <td>Often</td>\n",
       "      <td>41</td>\n",
       "      <td>4</td>\n",
       "    </tr>\n",
       "  </tbody>\n",
       "</table>\n",
       "</div>"
      ],
      "text/plain": [
       "       index  work_interfere  Order\n",
       "1      Never              97      1\n",
       "2     Rarely              71      2\n",
       "0  Sometimes             145      3\n",
       "3      Often              41      4"
      ]
     },
     "execution_count": 26,
     "metadata": {},
     "output_type": "execute_result"
    }
   ],
   "source": [
    "# Create new vars and Reset Index \n",
    "no_count= no_con['work_interfere'].value_counts().reset_index()\n",
    "# Add column to sort bars in order of severity\n",
    "no_count['Order'] = [3,1,2,4]\n",
    "\n",
    "# Sort and view\n",
    "no_sorted= no_count.sort_values(by = 'Order')\n",
    "no_sorted"
   ]
  },
  {
   "cell_type": "code",
   "execution_count": 27,
   "id": "a643b5d5",
   "metadata": {},
   "outputs": [
    {
     "data": {
      "image/png": "[encoded data removed]",
      "text/plain": [
       "<Figure size 648x432 with 1 Axes>"
      ]
     },
     "metadata": {
      "needs_background": "light"
     },
     "output_type": "display_data"
    }
   ],
   "source": [
    "# Make data arrays\n",
    "yes = yes_sorted.iloc[:,1]\n",
    "no = no_sorted.iloc[:,1]\n",
    "x = office_int['index']\n",
    "\n",
    "# Size \n",
    "plt.figure(figsize= (9,6))\n",
    "\n",
    "# Set columns\n",
    "N = 4\n",
    "ind = np.arange(N) \n",
    "width = 0.4\n",
    "\n",
    "# Set bars\n",
    "bar1 = plt.bar(ind, no, width, color = 'cadetblue')\n",
    "bar2 = plt.bar(ind+width, yes, width, color='peru')\n",
    "\n",
    "\n",
    "# Create Titles, Axis Labels, and Legend\n",
    "plt.title('Q: Mental Health Interference and Perceived Consequences', fontsize = 20)\n",
    "plt.ylabel('Count', fontsize = 15)\n",
    "  \n",
    "plt.xticks(ind+.2, x, fontsize = 15)\n",
    "plt.legend((bar1, bar2), ('No Consequences', 'Yes Consequences') , fontsize = 12)\n",
    "plt.show()"
   ]
  },
  {
   "cell_type": "markdown",
   "id": "e7610385",
   "metadata": {},
   "source": [
    "The graph above illustrates how distributions for work interference differ between groups. One group being those that report anticipating no negative consequences due to discussing their mental health, and one group that does. The visualization show one difference of note, for those who report interference from mental health often. The difference suggests that those with more incidents, or experience with mental health struggles, feel less confident they can talk with their employers about it without risk. "
   ]
  },
  {
   "cell_type": "markdown",
   "id": "2b10e4d4",
   "metadata": {},
   "source": [
    "### Concluding Remarks  \n",
    "The graphs completed appear to lend confidence that our sample ages are reflective of workplaces ages. The visuals also lend confidence that mental health struggles, are indeed, a common experience which interferes with work performance. The visuals also showed that the majority of workers are not confident they can talk to their employer about their mental health without consequence."
   ]
  }
 ],
 "metadata": {
  "kernelspec": {
   "display_name": "Python 3",
   "language": "python",
   "name": "python3"
  },
  "language_info": {
   "codemirror_mode": {
    "name": "ipython",
    "version": 3
   },
   "file_extension": ".py",
   "mimetype": "text/x-python",
   "name": "python",
   "nbconvert_exporter": "python",
   "pygments_lexer": "ipython3",
   "version": "3.8.8"
  }
 },
 "nbformat": 4,
 "nbformat_minor": 5
}
